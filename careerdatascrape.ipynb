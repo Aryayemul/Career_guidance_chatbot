{
 "cells": [
  {
   "cell_type": "code",
   "execution_count": null,
   "id": "38b910f6-49c9-4527-bd2d-089478a74ac4",
   "metadata": {},
   "outputs": [],
   "source": [
    "! pip install html5lib\n"
   ]
  },
  {
   "cell_type": "code",
   "execution_count": 2,
   "id": "92d0977e-6073-4583-9174-1ceb6cddf0c7",
   "metadata": {},
   "outputs": [],
   "source": [
    "from tqdm import tqdm \n",
    "\n",
    "def selection(entries: list[str]):\n",
    "    mods = []\n",
    "    for entry in tqdm(entries, total=len(entries)):\n",
    "        if len(entry.strip()) > 50:\n",
    "            continue \n",
    "        if \"/\" in entry:\n",
    "            mods.append(entry.split(\"/\")[0].strip())\n",
    "        else: \n",
    "            mods.append(entry.strip())\n",
    "    \n",
    "    mods = list(set(mods))\n",
    "    return mods"
   ]
  },
  {
   "cell_type": "code",
   "execution_count": 3,
   "id": "d7b677ff-c153-4bb0-8a46-7bb86b6fb03a",
   "metadata": {},
   "outputs": [],
   "source": [
    "import requests\n",
    "from bs4 import BeautifulSoup\n",
    "\n",
    "url = \"https://www.myplan.com/careers/browse-alphabetically.html?letter=all&sort=titles&page=all\"\n",
    "r = requests.get(url)\n",
    "\n",
    "soup = BeautifulSoup(r.content, 'html5lib')"
   ]
  },
  {
   "cell_type": "code",
   "execution_count": 4,
   "id": "713efaaf-82c7-4d2b-8afb-d656c84a76e1",
   "metadata": {},
   "outputs": [],
   "source": [
    "careers = soup.find('td', attrs={'class': 'box_table'}).findAll('a', attrs={'class': 'list-link'})"
   ]
  },
  {
   "cell_type": "code",
   "execution_count": 5,
   "id": "3ff73239-79f4-4975-ade4-2ee6ee222f5a",
   "metadata": {},
   "outputs": [],
   "source": [
    "records = {career.text: \"https://www.myplan.com\"+career['href'] for career in careers}"
   ]
  },
  {
   "cell_type": "code",
   "execution_count": 6,
   "id": "3a6e5727-afce-4941-b214-879ad6ee9702",
   "metadata": {},
   "outputs": [],
   "source": [
    "sample = records['Actors']"
   ]
  },
  {
   "cell_type": "code",
   "execution_count": null,
   "id": "ef147af4-a07f-444c-a330-c09572d902d4",
   "metadata": {},
   "outputs": [],
   "source": [
    "sample.split(\"?\")[0]"
   ]
  },
  {
   "cell_type": "code",
   "execution_count": 9,
   "id": "bd38bc10-2dc8-47bb-af27-197988893d68",
   "metadata": {},
   "outputs": [],
   "source": [
    "from requests.exceptions import SSLError\n",
    "\n",
    "tries = 0\n",
    "while tries != -1:\n",
    "    try:\n",
    "        response = requests.get(sample.split(\"?\")[0].replace(\"summary\", \"description\"))\n",
    "        tries = -1\n",
    "    except SSLError as e:\n",
    "        tries += 1"
   ]
  },
  {
   "cell_type": "code",
   "execution_count": 10,
   "id": "7a485208-9b50-4979-8050-c07a3c74d3ad",
   "metadata": {},
   "outputs": [],
   "source": [
    "soup1 = BeautifulSoup(response.content, 'html5lib')"
   ]
  },
  {
   "cell_type": "code",
   "execution_count": null,
   "id": "233f46d1-140a-4dd3-bc0d-29d5e06a240b",
   "metadata": {},
   "outputs": [],
   "source": [
    "\n",
    "sample.split(\"?\")[0].replace(\"summary\", \"description\")"
   ]
  },
  {
   "cell_type": "code",
   "execution_count": null,
   "id": "62529969-6d83-4da2-b192-dd47b92322ff",
   "metadata": {},
   "outputs": [],
   "source": [
    "for k in soup1.findAll(\"span\"):\n",
    "    print(k.text)"
   ]
  },
  {
   "cell_type": "code",
   "execution_count": 13,
   "id": "d282fe88-acee-4cc3-89b3-cc1f3b0d8a32",
   "metadata": {},
   "outputs": [],
   "source": [
    "from selenium import webdriver\n",
    "from selenium.webdriver.common.by import By\n",
    "from webdriver_manager.chrome import ChromeDriverManager"
   ]
  },
  {
   "cell_type": "code",
   "execution_count": null,
   "id": "72053831-62df-4e2e-b5ed-56e8ed73e38a",
   "metadata": {},
   "outputs": [],
   "source": [
    "# ! pip install selenium\n",
    "! pip install webdriver_manager\n"
   ]
  },
  {
   "cell_type": "code",
   "execution_count": 15,
   "id": "6fac8e00-492b-4247-9637-39fd6d2962d1",
   "metadata": {},
   "outputs": [],
   "source": [
    "options = webdriver.ChromeOptions()\n",
    "options.add_argument('--ignore-ssl-errors=yes')\n",
    "options.add_argument('--ignore-certificate-errors')\n",
    "driver = webdriver.Chrome(options=options)"
   ]
  },
  {
   "cell_type": "code",
   "execution_count": 16,
   "id": "1de3bcb0-6df1-448a-aaa2-2e7ca19b0b51",
   "metadata": {},
   "outputs": [],
   "source": [
    "driver.get(sample.split(\"?\")[0].replace(\"summary\", \"description\"))\n",
    "element = driver.find_element(By.XPATH, \"/html/body/table/tbody/tr[2]/td/table/tbody/tr[2]/td/center/table/tbody/tr[1]/td[3]/table/tbody/tr[4]/td/table/tbody/tr[5]\")"
   ]
  },
  {
   "cell_type": "code",
   "execution_count": null,
   "id": "6662afc9-a760-4d3f-8c75-e634fa527a36",
   "metadata": {},
   "outputs": [],
   "source": [
    "print(element.text)"
   ]
  },
  {
   "cell_type": "code",
   "execution_count": null,
   "id": "b7515c58-5e6d-4327-a57f-56e8905332fc",
   "metadata": {},
   "outputs": [],
   "source": [
    "from tqdm import tqdm\n",
    "from selenium.webdriver.common.by import By\n",
    "\n",
    "count = 0\n",
    "for entry, hyperlink in tqdm(records.items(), total=len(records)):\n",
    "    count += 1\n",
    "    if count < 100:\n",
    "        continue  # Skipping first 100 entries\n",
    "\n",
    "    entry = entry.replace(\"/\", \" or \")  # Avoid issues with file names\n",
    "    result = \"\"\n",
    "    xpath = \"/html/body/table/tbody/tr[2]/td/table/tbody/tr[2]/td/center/table/tbody/tr[1]/td[3]/table/tbody/tr[4]\"\n",
    "\n",
    "    # Scrape description page\n",
    "    driver.get(hyperlink.split(\"?\")[0].replace(\"summary\", \"description\"))\n",
    "    element = driver.find_element(By.XPATH, xpath)\n",
    "    result += element.text + \"\\n\\n\"\n",
    "\n",
    "    # Scrape requirements page\n",
    "    driver.get(hyperlink.split(\"?\")[0].replace(\"summary\", \"requirements\"))\n",
    "    element = driver.find_element(By.XPATH, xpath)\n",
    "    result += element.text  \n",
    "\n",
    "    # ✅ FIX: Save the file with UTF-8 encoding\n",
    "    with open(f\"../data/scraped/{entry}.txt\", \"w\", encoding=\"utf-8\") as file:\n",
    "        file.write(result)\n"
   ]
  },
  {
   "cell_type": "code",
   "execution_count": null,
   "id": "1dc65316-8348-4014-99b8-43e8517af74a",
   "metadata": {},
   "outputs": [],
   "source": []
  },
  {
   "cell_type": "code",
   "execution_count": null,
   "id": "cbe621f8",
   "metadata": {},
   "outputs": [],
   "source": []
  },
  {
   "cell_type": "code",
   "execution_count": null,
   "id": "b4824d64",
   "metadata": {},
   "outputs": [],
   "source": []
  },
  {
   "cell_type": "code",
   "execution_count": null,
   "id": "f12440f8",
   "metadata": {},
   "outputs": [],
   "source": []
  }
 ],
 "metadata": {
  "kernelspec": {
   "display_name": "base",
   "language": "python",
   "name": "python3"
  },
  "language_info": {
   "codemirror_mode": {
    "name": "ipython",
    "version": 3
   },
   "file_extension": ".py",
   "mimetype": "text/x-python",
   "name": "python",
   "nbconvert_exporter": "python",
   "pygments_lexer": "ipython3",
   "version": "3.12.7"
  }
 },
 "nbformat": 4,
 "nbformat_minor": 5
}
